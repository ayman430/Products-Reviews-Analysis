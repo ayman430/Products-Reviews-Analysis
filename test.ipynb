{
 "cells": [
  {
   "cell_type": "code",
   "execution_count": 2,
   "id": "3defe39d-b78c-49e1-8ddb-713f0e2a753b",
   "metadata": {},
   "outputs": [
    {
     "data": {
      "text/plain": [
       "'https://www.amazon.com/SAMSUNG-Unlocked-Smartphone-Expandable-Security/product-reviews/B0CN1QSH8Q/ref=cm_cr_dp_d_show_all_btm?ie=UTF8&reviewerType=all_reviews'"
      ]
     },
     "execution_count": 2,
     "metadata": {},
     "output_type": "execute_result"
    }
   ],
   "source": [
    "url= 'https://www.amazon.com/SAMSUNG-Unlocked-Smartphone-Expandable-Security/product-reviews/B0CN1QSH8Q/ref=cm_cr_dp_d_show_all_btm?ie=UTF8&reviewerType=all_reviews'\n",
    "url "
   ]
  },
  {
   "cell_type": "code",
   "execution_count": 3,
   "id": "562c5eb2-9348-48a2-a528-51211b595f99",
   "metadata": {},
   "outputs": [
    {
     "data": {
      "text/plain": [
       "'https://www.amazon.com/SAMSUNG-Unlocked-Smartphone-Expandable-Security/product-reviews/B0CN1QSH8Q/ref=cm_cr_arp_d_paging_btm_next_2?ie=UTF8&reviewerType=all_reviews&pageNumber=2'"
      ]
     },
     "execution_count": 3,
     "metadata": {},
     "output_type": "execute_result"
    }
   ],
   "source": [
    "'https://www.amazon.com/SAMSUNG-Unlocked-Smartphone-Expandable-Security/product-reviews/B0CN1QSH8Q/ref=cm_cr_arp_d_paging_btm_next_2?ie=UTF8&reviewerType=all_reviews&pageNumber=2'"
   ]
  },
  {
   "cell_type": "code",
   "execution_count": null,
   "id": "6d4e2dfc-c407-49e4-88f1-7a78bea52e6d",
   "metadata": {},
   "outputs": [],
   "source": []
  }
 ],
 "metadata": {
  "kernelspec": {
   "display_name": "Python 3 (ipykernel)",
   "language": "python",
   "name": "python3"
  },
  "language_info": {
   "codemirror_mode": {
    "name": "ipython",
    "version": 3
   },
   "file_extension": ".py",
   "mimetype": "text/x-python",
   "name": "python",
   "nbconvert_exporter": "python",
   "pygments_lexer": "ipython3",
   "version": "3.11.7"
  },
  "widgets": {
   "application/vnd.jupyter.widget-state+json": {
    "state": {},
    "version_major": 2,
    "version_minor": 0
   }
  }
 },
 "nbformat": 4,
 "nbformat_minor": 5
}
