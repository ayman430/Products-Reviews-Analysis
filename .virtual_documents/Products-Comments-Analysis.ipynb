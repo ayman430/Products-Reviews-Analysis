import pandas as pd





from selenium import webdriver
from selenium.webdriver.common.by import By
from selenium.webdriver.support.ui import WebDriverWait
from selenium.webdriver.support import expected_conditions as EC


# Start browser
product_url = "https://www.amazon.com/SAMSUNG-Unlocked-Smartphone-Expandable-Security/dp/B0CN1QSH8Q/ref=nav_signin?ie=UTF8&th=1"
web = webdriver.Chrome()

try:
    # Load the product page
    web.get(product_url)

    # Wait for the product title element to be present
    product_element = WebDriverWait(web, 10).until(
        EC.presence_of_element_located((By.ID, 'productTitle'))
    )
    # Get the product name
    product_name = product_element.text
    print(f"Product Name: {product_name}")

    # Go to reviews page (if there is a "See more reviews" button)
    try:
        reviews_page_button_element = WebDriverWait(web, 60).until(
            EC.element_to_be_clickable((By.LINK_TEXT, 'See more reviews'))
        )
        reviews_page_button_element.click()
        print('We are in the reviews page.')
    except:
        print("Unable to find 'See all reviews' button or reviews are on the same page.")

    # Initialize reviews list

    reviews_list = []

    # Scraping reviews and handling pagination
    next_page = True
    page_num = 1

    # get number of pages
    num_pages_elements = WebDriverWait(web, 60).until(
            EC.element_to_be_clickable((By.XPATH, '//*[@id="filter-info-section"]/div'))
        )
    num = int(num_pages_elements.text.split(',')[1].split(' ')[1])
    print(f'pages number: {num // 10}')
    # get current url # pageNumber=10
    # Get the current URL of the page
    current_page_url = web.current_url
 
    while page_num <= (num // 10):
            modified_url = current_page_url.replace("pageNumber=10", "page=3")
        print(f"Modified page URL: {modified_url}")
    
        # Optionally navigate to the modified URL
        web.get(modified_url)
        print(f"Navigated to: {web.current_url}")
        # Wait for reviews to be loaded
        reviews_elements = WebDriverWait(web, 60).until(
            EC.presence_of_all_elements_located((By.CLASS_NAME, 'a-size-base.review-text.review-text-content'))
        )
        
        # Print number of reviews found on this page
        print(f'--> Found {len(reviews_elements)} reviews on page {page_num}.')
        
        # Add reviews to reviews_list
        for r in reviews_elements:
            reviews_list.append(r.text)

        print(f'Page Number: {page_num}')
        print(f'-----> Total reviews so far: {len(reviews_list)}')
        


finally:
    web.minimize_window()



product_name


len(reviews_list)


all_reviews = reviews_list


reviews_df = pd.DataFrame(all_reviews, columns=['reviews'])


reviews_df.head()





from transformers import pipeline
# Load a pre-trained text classification pipeline (e.g., for sentiment analysis)
classifier = pipeline('sentiment-analysis')
summarizer = pipeline("summarization")


classifier(reviews_df['reviews'][0])[0]['score']


class_results = classifier(reviews_df['reviews'][:].tolist())


class_results[:5]


labels = [1 if l['label'] == 'POSITIVE' else 0 for l in class_results]
labels[:5]


reviews_df['labels'] = labels


reviews_df.head()


reviews_df['labels'].value_counts()








import seaborn as sns
import matplotlib.pyplot as plt


#Create count plot
plt.figure(figsize=(6, 4))
ax = sns.countplot(x='labels', data=reviews_df)

# Calculate and annotate percentages
total = len(reviews_df)
for p in ax.patches:
    count = p.get_height()
    percentage = f'{count / total * 100:.2f}%'
    ax.annotate(percentage, (p.get_x() + p.get_width() / 2., count),
                ha='center', va='baseline', fontsize=12, color='black')

# Set labels
ax.set_xticklabels(['Negative', 'Positive'])
plt.title('Count and Percentage of Labels')
plt.xlabel('Sentiment Label')
plt.ylabel('Count')

# Show plot
plt.show()





from wordcloud import WordCloud


# Separate positive and negative reviews
positive_reviews = ' '.join(reviews_df[reviews_df['labels'] == 1]['reviews'])
negative_reviews = ' '.join(reviews_df[reviews_df['labels'] == 0]['reviews'])


# Generate word clouds
wordcloud_positive = WordCloud(width=800, height=400, background_color='white').generate(positive_reviews)
wordcloud_negative = WordCloud(width=800, height=400, background_color='white').generate(negative_reviews)

# Plot the word clouds
plt.figure(figsize=(10, 5))

# Positive reviews word cloud
plt.subplot(1, 2, 1)
plt.imshow(wordcloud_positive, interpolation='bilinear')
plt.title('Positive Reviews')
plt.axis('off')

# Negative reviews word cloud
plt.subplot(1, 2, 2)
plt.imshow(wordcloud_negative, interpolation='bilinear')
plt.title('Negative Reviews')
plt.axis('off')



